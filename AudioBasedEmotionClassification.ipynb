{
  "nbformat": 4,
  "nbformat_minor": 0,
  "metadata": {
    "colab": {
      "name": "AudioBasedEmotionClassification.ipynb",
      "provenance": [],
      "collapsed_sections": []
    },
    "kernelspec": {
      "name": "python3",
      "display_name": "Python 3"
    }
  },
  "cells": [
    {
      "cell_type": "code",
      "metadata": {
        "id": "dPqICo2h56AC",
        "colab_type": "code",
        "outputId": "8fa8dd9f-5020-4258-e846-e3840a47f46d",
        "colab": {
          "base_uri": "https://localhost:8080/",
          "height": 124
        }
      },
      "source": [
        "from google.colab import drive \n",
        "drive.mount('/content/gdrive')"
      ],
      "execution_count": 0,
      "outputs": [
        {
          "output_type": "stream",
          "text": [
            "Go to this URL in a browser: https://accounts.google.com/o/oauth2/auth?client_id=947318989803-6bn6qk8qdgf4n4g3pfee6491hc0brc4i.apps.googleusercontent.com&redirect_uri=urn%3Aietf%3Awg%3Aoauth%3A2.0%3Aoob&scope=email%20https%3A%2F%2Fwww.googleapis.com%2Fauth%2Fdocs.test%20https%3A%2F%2Fwww.googleapis.com%2Fauth%2Fdrive%20https%3A%2F%2Fwww.googleapis.com%2Fauth%2Fdrive.photos.readonly%20https%3A%2F%2Fwww.googleapis.com%2Fauth%2Fpeopleapi.readonly&response_type=code\n",
            "\n",
            "Enter your authorization code:\n",
            "··········\n",
            "Mounted at /content/gdrive\n"
          ],
          "name": "stdout"
        }
      ]
    },
    {
      "cell_type": "code",
      "metadata": {
        "id": "FHSbKMLc8SRH",
        "colab_type": "code",
        "outputId": "fa08acd8-13fd-465c-fb81-f91f90df65f0",
        "colab": {
          "base_uri": "https://localhost:8080/",
          "height": 34
        }
      },
      "source": [
        "# import os\n",
        "# import time\n",
        "# import numpy as np\n",
        "# import librosa\n",
        "# lst = []\n",
        "\n",
        "# start_time = time.time()\n",
        "# for folder in os.listdir('.'):\n",
        "#   if folder[0]=='A':\n",
        "#     for file in os.listdir(folder):\n",
        "#         try:\n",
        "#           X, sample_rate = librosa.load(os.path.join(folder,file), res_type='kaiser_fast')\n",
        "#           mfccs = np.mean(librosa.feature.mfcc(y=X, sr=sample_rate, n_mfcc=40).T,axis=0) \n",
        "#           file = int(file[7:8]) - 1 \n",
        "#           arr = mfccs, file\n",
        "#           lst.append(arr)\n",
        "#         except ValueError:\n",
        "#           continue\n",
        "\n",
        "# print(\"--- Data loaded. Loading time: %s seconds ---\" % (time.time() - start_time))"
      ],
      "execution_count": 0,
      "outputs": [
        {
          "output_type": "stream",
          "text": [
            "--- Data loaded. Loading time: 236.32492113113403 seconds ---\n"
          ],
          "name": "stdout"
        }
      ]
    },
    {
      "cell_type": "code",
      "metadata": {
        "id": "6rXgCDDoFaBz",
        "colab_type": "code",
        "colab": {}
      },
      "source": [
        "# X, y = zip(*lst)\n"
      ],
      "execution_count": 0,
      "outputs": []
    },
    {
      "cell_type": "markdown",
      "metadata": {
        "id": "xEd5X98bboIW",
        "colab_type": "text"
      },
      "source": [
        ""
      ]
    },
    {
      "cell_type": "code",
      "metadata": {
        "id": "A7QlrAFBL5yj",
        "colab_type": "code",
        "outputId": "cb8ef9f6-1db0-4773-82c0-e07fbd615469",
        "colab": {
          "base_uri": "https://localhost:8080/",
          "height": 34
        }
      },
      "source": [
        "# import numpy as np\n",
        "# X = np.asarray(X)\n",
        "# y = np.asarray(y)\n",
        "\n",
        "\n",
        "# X.shape, y.shape\n",
        "\n"
      ],
      "execution_count": 0,
      "outputs": [
        {
          "output_type": "execute_result",
          "data": {
            "text/plain": [
              "((1440, 40), (1440,))"
            ]
          },
          "metadata": {
            "tags": []
          },
          "execution_count": 50
        }
      ]
    },
    {
      "cell_type": "code",
      "metadata": {
        "id": "sxjLjrQOj-45",
        "colab_type": "code",
        "colab": {}
      },
      "source": [
        "# !pip install oblib\n",
        "# import joblib\n",
        "\n",
        "# X_name = 'X.joblib'\n",
        "# y_name = 'y.joblib'\n",
        "# save_dir = '/content/drive/My Drive/ravdess_model'\n",
        "\n",
        "# savedX = joblib.dump(X, os.path.join(save_dir, X_name))\n",
        "# savedy = joblib.dump(y, os.path.join(save_dir, y_name))\n",
        "\n",
        "\n",
        "import numpy as np\n",
        "import joblib\n",
        "# np.save('gdrive/My Drive/ravdess_model/x',X)\n",
        "# np.save('gdrive/My Drive/ravdess_model/y',y)\n",
        "\n",
        "X = joblib.load('gdrive/My Drive/ravdess_model/X.joblib')\n",
        "y = joblib.load('gdrive/My Drive/ravdess_model/y.joblib')\n",
        "\n",
        "# for i in range(len(y)):\n",
        "#   if y[i]>0:\n",
        "#     y[i]-=1\n",
        "\n",
        "\n",
        "\n",
        "# array_rain_fall = np.loadtxt(fname=\"rain-fall.csv\", delimiter=\",\")\n",
        "# np.savetxt(fname=\"saved-rain-fall-row-col-names.csv\", delimiter=\",\", X=array_rain_fall)"
      ],
      "execution_count": 0,
      "outputs": []
    },
    {
      "cell_type": "code",
      "metadata": {
        "id": "tR0GIprwnhij",
        "colab_type": "code",
        "colab": {}
      },
      "source": [
        "import pandas as pd\n",
        "columns = range(len(y))\n",
        "df = pd.DataFrame(X)"
      ],
      "execution_count": 0,
      "outputs": []
    },
    {
      "cell_type": "code",
      "metadata": {
        "id": "S_czf1LjnqLM",
        "colab_type": "code",
        "outputId": "5010ca0b-8563-4482-aca2-18339bf6411f",
        "colab": {
          "base_uri": "https://localhost:8080/",
          "height": 226
        }
      },
      "source": [
        "df.tail()"
      ],
      "execution_count": 0,
      "outputs": [
        {
          "output_type": "execute_result",
          "data": {
            "text/html": [
              "<div>\n",
              "<style scoped>\n",
              "    .dataframe tbody tr th:only-of-type {\n",
              "        vertical-align: middle;\n",
              "    }\n",
              "\n",
              "    .dataframe tbody tr th {\n",
              "        vertical-align: top;\n",
              "    }\n",
              "\n",
              "    .dataframe thead th {\n",
              "        text-align: right;\n",
              "    }\n",
              "</style>\n",
              "<table border=\"1\" class=\"dataframe\">\n",
              "  <thead>\n",
              "    <tr style=\"text-align: right;\">\n",
              "      <th></th>\n",
              "      <th>0</th>\n",
              "      <th>1</th>\n",
              "      <th>2</th>\n",
              "      <th>3</th>\n",
              "      <th>4</th>\n",
              "      <th>5</th>\n",
              "      <th>6</th>\n",
              "      <th>7</th>\n",
              "      <th>8</th>\n",
              "      <th>9</th>\n",
              "      <th>10</th>\n",
              "      <th>11</th>\n",
              "      <th>12</th>\n",
              "      <th>13</th>\n",
              "      <th>14</th>\n",
              "      <th>15</th>\n",
              "      <th>16</th>\n",
              "      <th>17</th>\n",
              "      <th>18</th>\n",
              "      <th>19</th>\n",
              "      <th>20</th>\n",
              "      <th>21</th>\n",
              "      <th>22</th>\n",
              "      <th>23</th>\n",
              "      <th>24</th>\n",
              "      <th>25</th>\n",
              "      <th>26</th>\n",
              "      <th>27</th>\n",
              "      <th>28</th>\n",
              "      <th>29</th>\n",
              "      <th>30</th>\n",
              "      <th>31</th>\n",
              "      <th>32</th>\n",
              "      <th>33</th>\n",
              "      <th>34</th>\n",
              "      <th>35</th>\n",
              "      <th>36</th>\n",
              "      <th>37</th>\n",
              "      <th>38</th>\n",
              "      <th>39</th>\n",
              "    </tr>\n",
              "  </thead>\n",
              "  <tbody>\n",
              "    <tr>\n",
              "      <th>4943</th>\n",
              "      <td>-646.931546</td>\n",
              "      <td>61.377081</td>\n",
              "      <td>-16.988777</td>\n",
              "      <td>12.555034</td>\n",
              "      <td>-13.093199</td>\n",
              "      <td>3.082647</td>\n",
              "      <td>-11.279306</td>\n",
              "      <td>-10.540529</td>\n",
              "      <td>-9.113195</td>\n",
              "      <td>2.369075</td>\n",
              "      <td>-8.408164</td>\n",
              "      <td>-1.000017</td>\n",
              "      <td>-9.220102</td>\n",
              "      <td>0.270728</td>\n",
              "      <td>-4.869185</td>\n",
              "      <td>-3.798038</td>\n",
              "      <td>-4.465536</td>\n",
              "      <td>-2.551504</td>\n",
              "      <td>-6.219362</td>\n",
              "      <td>-2.610812</td>\n",
              "      <td>-3.215108</td>\n",
              "      <td>-4.511744</td>\n",
              "      <td>-6.140197</td>\n",
              "      <td>-2.663885</td>\n",
              "      <td>-3.467748</td>\n",
              "      <td>-2.806494</td>\n",
              "      <td>-0.882522</td>\n",
              "      <td>-1.555897</td>\n",
              "      <td>2.077955</td>\n",
              "      <td>1.014428</td>\n",
              "      <td>-0.226662</td>\n",
              "      <td>1.816127</td>\n",
              "      <td>0.245245</td>\n",
              "      <td>2.198746</td>\n",
              "      <td>2.465535</td>\n",
              "      <td>2.617508</td>\n",
              "      <td>1.774237</td>\n",
              "      <td>0.930601</td>\n",
              "      <td>0.747460</td>\n",
              "      <td>1.498267</td>\n",
              "    </tr>\n",
              "    <tr>\n",
              "      <th>4944</th>\n",
              "      <td>-675.536781</td>\n",
              "      <td>48.541577</td>\n",
              "      <td>-3.693695</td>\n",
              "      <td>15.501362</td>\n",
              "      <td>-7.372083</td>\n",
              "      <td>-1.366871</td>\n",
              "      <td>-14.761905</td>\n",
              "      <td>-5.579250</td>\n",
              "      <td>-5.142587</td>\n",
              "      <td>-1.491627</td>\n",
              "      <td>-10.421262</td>\n",
              "      <td>-1.190409</td>\n",
              "      <td>-2.440685</td>\n",
              "      <td>-4.300209</td>\n",
              "      <td>-3.974783</td>\n",
              "      <td>-3.007353</td>\n",
              "      <td>-5.499747</td>\n",
              "      <td>-0.201112</td>\n",
              "      <td>-6.016098</td>\n",
              "      <td>-2.445127</td>\n",
              "      <td>-3.699853</td>\n",
              "      <td>-3.571032</td>\n",
              "      <td>-3.403845</td>\n",
              "      <td>-5.400430</td>\n",
              "      <td>-3.425282</td>\n",
              "      <td>-1.115717</td>\n",
              "      <td>1.684772</td>\n",
              "      <td>2.438847</td>\n",
              "      <td>2.609585</td>\n",
              "      <td>1.804672</td>\n",
              "      <td>-0.563119</td>\n",
              "      <td>1.706292</td>\n",
              "      <td>0.030133</td>\n",
              "      <td>1.093912</td>\n",
              "      <td>0.216716</td>\n",
              "      <td>1.608424</td>\n",
              "      <td>-1.338693</td>\n",
              "      <td>0.192503</td>\n",
              "      <td>-0.731679</td>\n",
              "      <td>1.501951</td>\n",
              "    </tr>\n",
              "    <tr>\n",
              "      <th>4945</th>\n",
              "      <td>-608.778315</td>\n",
              "      <td>59.247194</td>\n",
              "      <td>-6.208647</td>\n",
              "      <td>10.505940</td>\n",
              "      <td>-10.760311</td>\n",
              "      <td>2.287540</td>\n",
              "      <td>-14.015711</td>\n",
              "      <td>-9.075580</td>\n",
              "      <td>-8.449490</td>\n",
              "      <td>4.014549</td>\n",
              "      <td>-10.895445</td>\n",
              "      <td>-3.131255</td>\n",
              "      <td>-2.431987</td>\n",
              "      <td>-2.044737</td>\n",
              "      <td>-5.594034</td>\n",
              "      <td>-2.888829</td>\n",
              "      <td>-7.209847</td>\n",
              "      <td>-3.264448</td>\n",
              "      <td>-5.759219</td>\n",
              "      <td>-1.175307</td>\n",
              "      <td>-3.472448</td>\n",
              "      <td>-3.047401</td>\n",
              "      <td>-3.885690</td>\n",
              "      <td>-4.228245</td>\n",
              "      <td>-4.744638</td>\n",
              "      <td>-1.849893</td>\n",
              "      <td>-2.489592</td>\n",
              "      <td>-1.204477</td>\n",
              "      <td>-2.144263</td>\n",
              "      <td>-2.033505</td>\n",
              "      <td>-1.972012</td>\n",
              "      <td>-0.051326</td>\n",
              "      <td>-1.002053</td>\n",
              "      <td>-0.190803</td>\n",
              "      <td>0.205867</td>\n",
              "      <td>2.353034</td>\n",
              "      <td>3.459262</td>\n",
              "      <td>3.242251</td>\n",
              "      <td>2.071721</td>\n",
              "      <td>2.525186</td>\n",
              "    </tr>\n",
              "    <tr>\n",
              "      <th>4946</th>\n",
              "      <td>-560.837177</td>\n",
              "      <td>50.168745</td>\n",
              "      <td>-19.705780</td>\n",
              "      <td>4.857206</td>\n",
              "      <td>-14.152938</td>\n",
              "      <td>-1.806413</td>\n",
              "      <td>-14.607022</td>\n",
              "      <td>-10.531889</td>\n",
              "      <td>-8.830826</td>\n",
              "      <td>1.842285</td>\n",
              "      <td>-10.997461</td>\n",
              "      <td>3.024669</td>\n",
              "      <td>-11.034260</td>\n",
              "      <td>0.173616</td>\n",
              "      <td>-5.544484</td>\n",
              "      <td>-4.531592</td>\n",
              "      <td>-1.218367</td>\n",
              "      <td>-4.226231</td>\n",
              "      <td>-7.439676</td>\n",
              "      <td>-2.918094</td>\n",
              "      <td>-4.972704</td>\n",
              "      <td>-4.242082</td>\n",
              "      <td>-4.365048</td>\n",
              "      <td>-2.168633</td>\n",
              "      <td>-3.950433</td>\n",
              "      <td>-0.162558</td>\n",
              "      <td>2.696078</td>\n",
              "      <td>3.357330</td>\n",
              "      <td>4.228732</td>\n",
              "      <td>5.612513</td>\n",
              "      <td>6.008360</td>\n",
              "      <td>8.070698</td>\n",
              "      <td>5.162092</td>\n",
              "      <td>4.522226</td>\n",
              "      <td>2.342330</td>\n",
              "      <td>0.923058</td>\n",
              "      <td>1.369484</td>\n",
              "      <td>1.216854</td>\n",
              "      <td>0.766931</td>\n",
              "      <td>0.479213</td>\n",
              "    </tr>\n",
              "    <tr>\n",
              "      <th>4947</th>\n",
              "      <td>-606.634919</td>\n",
              "      <td>61.005785</td>\n",
              "      <td>-24.945132</td>\n",
              "      <td>13.234665</td>\n",
              "      <td>-5.295787</td>\n",
              "      <td>-4.091784</td>\n",
              "      <td>-7.111942</td>\n",
              "      <td>-8.966161</td>\n",
              "      <td>-10.679787</td>\n",
              "      <td>3.256634</td>\n",
              "      <td>-9.203079</td>\n",
              "      <td>2.093423</td>\n",
              "      <td>-12.159755</td>\n",
              "      <td>-1.357020</td>\n",
              "      <td>-2.136598</td>\n",
              "      <td>-7.099506</td>\n",
              "      <td>-7.953842</td>\n",
              "      <td>-1.035362</td>\n",
              "      <td>-5.483356</td>\n",
              "      <td>-2.363346</td>\n",
              "      <td>-0.067038</td>\n",
              "      <td>1.916906</td>\n",
              "      <td>-0.763467</td>\n",
              "      <td>2.335582</td>\n",
              "      <td>-1.165362</td>\n",
              "      <td>1.852167</td>\n",
              "      <td>0.116237</td>\n",
              "      <td>2.224703</td>\n",
              "      <td>2.673086</td>\n",
              "      <td>6.556891</td>\n",
              "      <td>5.686625</td>\n",
              "      <td>7.073574</td>\n",
              "      <td>7.005492</td>\n",
              "      <td>8.724262</td>\n",
              "      <td>6.402209</td>\n",
              "      <td>3.748414</td>\n",
              "      <td>0.912942</td>\n",
              "      <td>0.379323</td>\n",
              "      <td>0.921929</td>\n",
              "      <td>1.557195</td>\n",
              "    </tr>\n",
              "  </tbody>\n",
              "</table>\n",
              "</div>"
            ],
            "text/plain": [
              "              0          1          2   ...        37        38        39\n",
              "4943 -646.931546  61.377081 -16.988777  ...  0.930601  0.747460  1.498267\n",
              "4944 -675.536781  48.541577  -3.693695  ...  0.192503 -0.731679  1.501951\n",
              "4945 -608.778315  59.247194  -6.208647  ...  3.242251  2.071721  2.525186\n",
              "4946 -560.837177  50.168745 -19.705780  ...  1.216854  0.766931  0.479213\n",
              "4947 -606.634919  61.005785 -24.945132  ...  0.379323  0.921929  1.557195\n",
              "\n",
              "[5 rows x 40 columns]"
            ]
          },
          "metadata": {
            "tags": []
          },
          "execution_count": 5
        }
      ]
    },
    {
      "cell_type": "code",
      "metadata": {
        "id": "-Q1UX263Gfsy",
        "colab_type": "code",
        "outputId": "96426f19-26a9-44b7-ad83-75f8c9bfc41e",
        "colab": {
          "base_uri": "https://localhost:8080/",
          "height": 34
        }
      },
      "source": [
        "from fastai.basics import *\n",
        "from fastai.vision import *\n",
        "from sklearn.model_selection import train_test_split\n",
        "import torch\n",
        "\n",
        "class ArrayDataset(Dataset):\n",
        "    \"Sample numpy array dataset\"\n",
        "    def __init__(self, x, y):\n",
        "        self.x, self.y = x, y\n",
        "        self.c = 2 # binary label\n",
        "    \n",
        "    def __len__(self):\n",
        "        return len(self.x)\n",
        "    \n",
        "    def __getitem__(self, i):\n",
        "        return self.x[i], self.y[i]\n",
        "      \n",
        "\n",
        "\n",
        "    \n",
        "train_X,valid_X, train_y, valid_y = train_test_split(df,y,test_size=0.2,random_state=42)\n",
        "x_traincnn = np.expand_dims(train_X, axis=2)\n",
        "x_validcnn = np.expand_dims(valid_X, axis=2)\n",
        "# X = np.expand_dims(X,axis=2)\n",
        "print(train_y,valid_y)\n",
        "# Load necessary Pytorch packages\n",
        "# from torch.utils.data import DataLoader, TensorDataset\n",
        "# from torch import Tensor\n",
        "\n",
        "# # Create dataset from several tensors with matching first dimension\n",
        "# # Samples will be drawn from the first dimension (rows)\n",
        "# train_dataset = TensorDataset( Tensor(x_traincnn), Tensor(train_y) )\n",
        "# valid_dataset = TensorDataset( Tensor(x_validcnn), Tensor(valid_y) )\n",
        "# # Create a data loader from the dataset\n",
        "# # Type of sampling and batch size are specified at this step\n",
        "# train_loader = DataLoader(train_dataset, batch_size= 16, shuffle=True)\n",
        "# valid_loader = DataLoader(valid_dataset, batch_size= 16, shuffle=True)\n",
        "\n",
        "# # Quick test\n",
        "# next(iter(train_loader))\n",
        "\n",
        "\n",
        "\n",
        "\n",
        "\n",
        "# x_traincnn = torch.Tensor([x_traincnn,train_y])\n",
        "# x_testcnn = torch.Tensor([x_testcnn,valid_y])\n",
        "# # print(type(x_traincnn))\n",
        "# print(x_traincnn)\n",
        "# train_set,valid_set = ArrayDataset(train_X,train_y),ArrayDataset(valid_X,valid_y)\n",
        "\n",
        "# train_data = []\n",
        "# valid_data = []\n",
        "# for i in range(len(train_X)):\n",
        "#    train_data.append([train_X[i], train_y[i]])\n",
        "# for i in range(len(valid_X)):\n",
        "#    valid_data.append([valid_X[i], valid_y[i]])\n",
        "    \n",
        "    \n",
        "# train_data = np.array(train_data)\n",
        "# valid_data = np.array(valid_data)\n",
        "\n",
        "\n",
        "# train_data = np.expand_dims(train_data, axis=2)\n",
        "# valid_data = np.expand_dims(valid_data, axis=2)\n",
        "\n",
        "# print(train_data.shape)\n",
        "\n",
        "trainloader = torch.utils.data.DataLoader(x_traincnn, batch_size=16,\n",
        "                                          shuffle=True, num_workers=2)\n",
        "validloader = torch.utils.data.DataLoader(x_validcnn, batch_size=16,\n",
        "                                          shuffle=True, num_workers=2)\n",
        "\n",
        "\n"
      ],
      "execution_count": 0,
      "outputs": [
        {
          "output_type": "stream",
          "text": [
            "[4 3 3 5 ... 3 2 2 5] [1 4 3 0 ... 2 3 1 5]\n"
          ],
          "name": "stdout"
        }
      ]
    },
    {
      "cell_type": "code",
      "metadata": {
        "id": "Fr0qEEhnprBS",
        "colab_type": "code",
        "colab": {}
      },
      "source": [
        "def conv(ni,nf): return nn.Conv1d(ni, nf, kernel_size=3, stride=2, padding=1)"
      ],
      "execution_count": 0,
      "outputs": []
    },
    {
      "cell_type": "code",
      "metadata": {
        "id": "b6U1wn2KplTs",
        "colab_type": "code",
        "colab": {}
      },
      "source": [
        "model = nn.Sequential(\n",
        "    conv(1, 8), # 14\n",
        "    nn.BatchNorm2d(8),\n",
        "    nn.ReLU(),\n",
        "    conv(8, 16), # 7\n",
        "    nn.BatchNorm2d(16),\n",
        "    nn.ReLU(),\n",
        "    conv(16, 32), # 4\n",
        "    nn.BatchNorm2d(32),\n",
        "    nn.ReLU(),\n",
        "    conv(32, 16), # 2\n",
        "    nn.BatchNorm2d(16),\n",
        "    nn.ReLU(),\n",
        "    conv(16, 8), # 1\n",
        "    nn.BatchNorm2d(8),\n",
        "    Flatten(),   # remove (1,1) grid\n",
        ")"
      ],
      "execution_count": 0,
      "outputs": []
    },
    {
      "cell_type": "markdown",
      "metadata": {
        "id": "L6cyetGQLKRV",
        "colab_type": "text"
      },
      "source": [
        "Emotion (01 = neutral, 02 = calm, 03 = happy, 04 = sad, 05 = angry, 06 = fearful, 07 = disgust, 08 = surprised)."
      ]
    },
    {
      "cell_type": "code",
      "metadata": {
        "id": "c1spZSHeqC0D",
        "colab_type": "code",
        "outputId": "81a78ff1-e53f-4d86-9613-b4698a25b0fc",
        "colab": {
          "base_uri": "https://localhost:8080/",
          "height": 312
        }
      },
      "source": [
        "model.cuda()"
      ],
      "execution_count": 0,
      "outputs": [
        {
          "output_type": "execute_result",
          "data": {
            "text/plain": [
              "Sequential(\n",
              "  (0): Conv1d(1, 8, kernel_size=(3,), stride=(2,), padding=(1,))\n",
              "  (1): BatchNorm2d(8, eps=1e-05, momentum=0.1, affine=True, track_running_stats=True)\n",
              "  (2): ReLU()\n",
              "  (3): Conv1d(8, 16, kernel_size=(3,), stride=(2,), padding=(1,))\n",
              "  (4): BatchNorm2d(16, eps=1e-05, momentum=0.1, affine=True, track_running_stats=True)\n",
              "  (5): ReLU()\n",
              "  (6): Conv1d(16, 32, kernel_size=(3,), stride=(2,), padding=(1,))\n",
              "  (7): BatchNorm2d(32, eps=1e-05, momentum=0.1, affine=True, track_running_stats=True)\n",
              "  (8): ReLU()\n",
              "  (9): Conv1d(32, 16, kernel_size=(3,), stride=(2,), padding=(1,))\n",
              "  (10): BatchNorm2d(16, eps=1e-05, momentum=0.1, affine=True, track_running_stats=True)\n",
              "  (11): ReLU()\n",
              "  (12): Conv1d(16, 8, kernel_size=(3,), stride=(2,), padding=(1,))\n",
              "  (13): BatchNorm2d(8, eps=1e-05, momentum=0.1, affine=True, track_running_stats=True)\n",
              "  (14): Flatten()\n",
              ")"
            ]
          },
          "metadata": {
            "tags": []
          },
          "execution_count": 9
        }
      ]
    },
    {
      "cell_type": "code",
      "metadata": {
        "id": "7olgNNvrrx7Z",
        "colab_type": "code",
        "colab": {}
      },
      "source": [
        "import torch.optim as optim\n",
        "\n",
        "criterion = nn.CrossEntropyLoss()\n",
        "optimizer = optim.Adam(model.parameters(), lr=1e-3, betas=(0.9, 0.999), eps=1e-08, weight_decay=0, amsgrad=False)"
      ],
      "execution_count": 0,
      "outputs": []
    },
    {
      "cell_type": "code",
      "metadata": {
        "id": "d3nUyDsLsvDe",
        "colab_type": "code",
        "colab": {}
      },
      "source": [
        "batch_size = 10\n",
        "#3958\n",
        "i=0\n",
        "while i<3950:\n",
        "  inputs,labels = x_traincnn[i:(i+batch_size)],train_y[i:(i+batch_size)]\n",
        "  inputs = torch.from_numpy(inputs)\n",
        "  labels = torch.from_numpy(labels)\n",
        "  print(inputs.shape,labels.shape)\n",
        "  i+=10"
      ],
      "execution_count": 0,
      "outputs": []
    },
    {
      "cell_type": "code",
      "metadata": {
        "id": "-lPMk3FrqyNM",
        "colab_type": "code",
        "outputId": "b7360092-9e3e-4382-9b44-d2c0c13c4bfc",
        "colab": {
          "base_uri": "https://localhost:8080/",
          "height": 398
        }
      },
      "source": [
        "for epoch in range(10):  # loop over the dataset multiple times\n",
        "  running_loss = 0.0\n",
        "  batch_size = 10\n",
        "  #3958\n",
        "  i=0\n",
        "  while i<3950:\n",
        "    # zero the parameter gradients\n",
        "    optimizer.zero_grad()\n",
        "    inputs,labels = x_traincnn[i:(i+batch_size)],train_y[i:(i+batch_size)]\n",
        "    inputs = torch.from_numpy(inputs)\n",
        "    labels = torch.from_numpy(labels)\n",
        "    # forward + backward + optimize\n",
        "    outputs = model(inputs)\n",
        "    loss = criterion(outputs, labels)\n",
        "    loss.backward()\n",
        "    optimizer.step()\n",
        "\n",
        "    i+=10\n",
        "# print statistics\n",
        "    running_loss += loss.item()\n",
        "    if i % 100 == 99:    # print every 2000 mini-batches\n",
        "      print('[%d, %5d] loss: %.3f' % (epoch + 1, i + 1, running_loss / 2000))\n",
        "      running_loss = 0.0\n",
        "\n",
        "print('Finished Training')"
      ],
      "execution_count": 0,
      "outputs": [
        {
          "output_type": "stream",
          "text": [
            "torch.Size([10, 40, 1]) torch.Size([10])\n"
          ],
          "name": "stdout"
        },
        {
          "output_type": "error",
          "ename": "RuntimeError",
          "evalue": "ignored",
          "traceback": [
            "\u001b[0;31m---------------------------------------------------------------------------\u001b[0m",
            "\u001b[0;31mRuntimeError\u001b[0m                              Traceback (most recent call last)",
            "\u001b[0;32m<ipython-input-41-4b72f02c48e0>\u001b[0m in \u001b[0;36m<module>\u001b[0;34m()\u001b[0m\n\u001b[1;32m     15\u001b[0m \u001b[0;34m\u001b[0m\u001b[0m\n\u001b[1;32m     16\u001b[0m     \u001b[0;31m# forward + backward + optimize\u001b[0m\u001b[0;34m\u001b[0m\u001b[0;34m\u001b[0m\u001b[0;34m\u001b[0m\u001b[0m\n\u001b[0;32m---> 17\u001b[0;31m     \u001b[0moutputs\u001b[0m \u001b[0;34m=\u001b[0m \u001b[0mmodel\u001b[0m\u001b[0;34m(\u001b[0m\u001b[0minputs\u001b[0m\u001b[0;34m)\u001b[0m\u001b[0;34m\u001b[0m\u001b[0;34m\u001b[0m\u001b[0m\n\u001b[0m\u001b[1;32m     18\u001b[0m     \u001b[0mloss\u001b[0m \u001b[0;34m=\u001b[0m \u001b[0mcriterion\u001b[0m\u001b[0;34m(\u001b[0m\u001b[0moutputs\u001b[0m\u001b[0;34m,\u001b[0m \u001b[0mlabels\u001b[0m\u001b[0;34m)\u001b[0m\u001b[0;34m\u001b[0m\u001b[0;34m\u001b[0m\u001b[0m\n\u001b[1;32m     19\u001b[0m     \u001b[0mloss\u001b[0m\u001b[0;34m.\u001b[0m\u001b[0mbackward\u001b[0m\u001b[0;34m(\u001b[0m\u001b[0;34m)\u001b[0m\u001b[0;34m\u001b[0m\u001b[0;34m\u001b[0m\u001b[0m\n",
            "\u001b[0;32m/usr/local/lib/python3.6/dist-packages/torch/nn/modules/module.py\u001b[0m in \u001b[0;36m__call__\u001b[0;34m(self, *input, **kwargs)\u001b[0m\n\u001b[1;32m    491\u001b[0m             \u001b[0mresult\u001b[0m \u001b[0;34m=\u001b[0m \u001b[0mself\u001b[0m\u001b[0;34m.\u001b[0m\u001b[0m_slow_forward\u001b[0m\u001b[0;34m(\u001b[0m\u001b[0;34m*\u001b[0m\u001b[0minput\u001b[0m\u001b[0;34m,\u001b[0m \u001b[0;34m**\u001b[0m\u001b[0mkwargs\u001b[0m\u001b[0;34m)\u001b[0m\u001b[0;34m\u001b[0m\u001b[0;34m\u001b[0m\u001b[0m\n\u001b[1;32m    492\u001b[0m         \u001b[0;32melse\u001b[0m\u001b[0;34m:\u001b[0m\u001b[0;34m\u001b[0m\u001b[0;34m\u001b[0m\u001b[0m\n\u001b[0;32m--> 493\u001b[0;31m             \u001b[0mresult\u001b[0m \u001b[0;34m=\u001b[0m \u001b[0mself\u001b[0m\u001b[0;34m.\u001b[0m\u001b[0mforward\u001b[0m\u001b[0;34m(\u001b[0m\u001b[0;34m*\u001b[0m\u001b[0minput\u001b[0m\u001b[0;34m,\u001b[0m \u001b[0;34m**\u001b[0m\u001b[0mkwargs\u001b[0m\u001b[0;34m)\u001b[0m\u001b[0;34m\u001b[0m\u001b[0;34m\u001b[0m\u001b[0m\n\u001b[0m\u001b[1;32m    494\u001b[0m         \u001b[0;32mfor\u001b[0m \u001b[0mhook\u001b[0m \u001b[0;32min\u001b[0m \u001b[0mself\u001b[0m\u001b[0;34m.\u001b[0m\u001b[0m_forward_hooks\u001b[0m\u001b[0;34m.\u001b[0m\u001b[0mvalues\u001b[0m\u001b[0;34m(\u001b[0m\u001b[0;34m)\u001b[0m\u001b[0;34m:\u001b[0m\u001b[0;34m\u001b[0m\u001b[0;34m\u001b[0m\u001b[0m\n\u001b[1;32m    495\u001b[0m             \u001b[0mhook_result\u001b[0m \u001b[0;34m=\u001b[0m \u001b[0mhook\u001b[0m\u001b[0;34m(\u001b[0m\u001b[0mself\u001b[0m\u001b[0;34m,\u001b[0m \u001b[0minput\u001b[0m\u001b[0;34m,\u001b[0m \u001b[0mresult\u001b[0m\u001b[0;34m)\u001b[0m\u001b[0;34m\u001b[0m\u001b[0;34m\u001b[0m\u001b[0m\n",
            "\u001b[0;32m/usr/local/lib/python3.6/dist-packages/torch/nn/modules/container.py\u001b[0m in \u001b[0;36mforward\u001b[0;34m(self, input)\u001b[0m\n\u001b[1;32m     90\u001b[0m     \u001b[0;32mdef\u001b[0m \u001b[0mforward\u001b[0m\u001b[0;34m(\u001b[0m\u001b[0mself\u001b[0m\u001b[0;34m,\u001b[0m \u001b[0minput\u001b[0m\u001b[0;34m)\u001b[0m\u001b[0;34m:\u001b[0m\u001b[0;34m\u001b[0m\u001b[0;34m\u001b[0m\u001b[0m\n\u001b[1;32m     91\u001b[0m         \u001b[0;32mfor\u001b[0m \u001b[0mmodule\u001b[0m \u001b[0;32min\u001b[0m \u001b[0mself\u001b[0m\u001b[0;34m.\u001b[0m\u001b[0m_modules\u001b[0m\u001b[0;34m.\u001b[0m\u001b[0mvalues\u001b[0m\u001b[0;34m(\u001b[0m\u001b[0;34m)\u001b[0m\u001b[0;34m:\u001b[0m\u001b[0;34m\u001b[0m\u001b[0;34m\u001b[0m\u001b[0m\n\u001b[0;32m---> 92\u001b[0;31m             \u001b[0minput\u001b[0m \u001b[0;34m=\u001b[0m \u001b[0mmodule\u001b[0m\u001b[0;34m(\u001b[0m\u001b[0minput\u001b[0m\u001b[0;34m)\u001b[0m\u001b[0;34m\u001b[0m\u001b[0;34m\u001b[0m\u001b[0m\n\u001b[0m\u001b[1;32m     93\u001b[0m         \u001b[0;32mreturn\u001b[0m \u001b[0minput\u001b[0m\u001b[0;34m\u001b[0m\u001b[0;34m\u001b[0m\u001b[0m\n\u001b[1;32m     94\u001b[0m \u001b[0;34m\u001b[0m\u001b[0m\n",
            "\u001b[0;32m/usr/local/lib/python3.6/dist-packages/torch/nn/modules/module.py\u001b[0m in \u001b[0;36m__call__\u001b[0;34m(self, *input, **kwargs)\u001b[0m\n\u001b[1;32m    491\u001b[0m             \u001b[0mresult\u001b[0m \u001b[0;34m=\u001b[0m \u001b[0mself\u001b[0m\u001b[0;34m.\u001b[0m\u001b[0m_slow_forward\u001b[0m\u001b[0;34m(\u001b[0m\u001b[0;34m*\u001b[0m\u001b[0minput\u001b[0m\u001b[0;34m,\u001b[0m \u001b[0;34m**\u001b[0m\u001b[0mkwargs\u001b[0m\u001b[0;34m)\u001b[0m\u001b[0;34m\u001b[0m\u001b[0;34m\u001b[0m\u001b[0m\n\u001b[1;32m    492\u001b[0m         \u001b[0;32melse\u001b[0m\u001b[0;34m:\u001b[0m\u001b[0;34m\u001b[0m\u001b[0;34m\u001b[0m\u001b[0m\n\u001b[0;32m--> 493\u001b[0;31m             \u001b[0mresult\u001b[0m \u001b[0;34m=\u001b[0m \u001b[0mself\u001b[0m\u001b[0;34m.\u001b[0m\u001b[0mforward\u001b[0m\u001b[0;34m(\u001b[0m\u001b[0;34m*\u001b[0m\u001b[0minput\u001b[0m\u001b[0;34m,\u001b[0m \u001b[0;34m**\u001b[0m\u001b[0mkwargs\u001b[0m\u001b[0;34m)\u001b[0m\u001b[0;34m\u001b[0m\u001b[0;34m\u001b[0m\u001b[0m\n\u001b[0m\u001b[1;32m    494\u001b[0m         \u001b[0;32mfor\u001b[0m \u001b[0mhook\u001b[0m \u001b[0;32min\u001b[0m \u001b[0mself\u001b[0m\u001b[0;34m.\u001b[0m\u001b[0m_forward_hooks\u001b[0m\u001b[0;34m.\u001b[0m\u001b[0mvalues\u001b[0m\u001b[0;34m(\u001b[0m\u001b[0;34m)\u001b[0m\u001b[0;34m:\u001b[0m\u001b[0;34m\u001b[0m\u001b[0;34m\u001b[0m\u001b[0m\n\u001b[1;32m    495\u001b[0m             \u001b[0mhook_result\u001b[0m \u001b[0;34m=\u001b[0m \u001b[0mhook\u001b[0m\u001b[0;34m(\u001b[0m\u001b[0mself\u001b[0m\u001b[0;34m,\u001b[0m \u001b[0minput\u001b[0m\u001b[0;34m,\u001b[0m \u001b[0mresult\u001b[0m\u001b[0;34m)\u001b[0m\u001b[0;34m\u001b[0m\u001b[0;34m\u001b[0m\u001b[0m\n",
            "\u001b[0;32m/usr/local/lib/python3.6/dist-packages/torch/nn/modules/conv.py\u001b[0m in \u001b[0;36mforward\u001b[0;34m(self, input)\u001b[0m\n\u001b[1;32m    194\u001b[0m                             _single(0), self.dilation, self.groups)\n\u001b[1;32m    195\u001b[0m         return F.conv1d(input, self.weight, self.bias, self.stride,\n\u001b[0;32m--> 196\u001b[0;31m                         self.padding, self.dilation, self.groups)\n\u001b[0m\u001b[1;32m    197\u001b[0m \u001b[0;34m\u001b[0m\u001b[0m\n\u001b[1;32m    198\u001b[0m \u001b[0;34m\u001b[0m\u001b[0m\n",
            "\u001b[0;31mRuntimeError\u001b[0m: Given groups=1, weight of size 8 1 3, expected input[10, 40, 1] to have 1 channels, but got 40 channels instead"
          ]
        }
      ]
    },
    {
      "cell_type": "code",
      "metadata": {
        "id": "UoXEuFie4sjw",
        "colab_type": "code",
        "colab": {}
      },
      "source": [
        "class resblock(Layer):\n",
        "    def __init__(self,nf, **kwargs):\n",
        "        super(resblock, self).__init__()\n",
        "\n",
        "\n",
        "    def call(self, nf, nf):\n",
        "      \n",
        "      \n",
        "\n",
        "    def get_config(self):\n",
        "        config = {\n",
        "            'axis': self.axis,\n",
        "            'momentum': self.momentum,\n",
        "            'epsilon': self.epsilon,\n",
        "            'center': self.center,\n",
        "            'scale': self.scale,\n",
        "            'beta_initializer': initializers.serialize(self.beta_initializer),\n",
        "            'gamma_initializer': initializers.serialize(self.gamma_initializer),\n",
        "            'moving_mean_initializer':\n",
        "                initializers.serialize(self.moving_mean_initializer),\n",
        "            'moving_variance_initializer':\n",
        "                initializers.serialize(self.moving_variance_initializer),\n",
        "            'beta_regularizer': regularizers.serialize(self.beta_regularizer),\n",
        "            'gamma_regularizer': regularizers.serialize(self.gamma_regularizer),\n",
        "            'beta_constraint': constraints.serialize(self.beta_constraint),\n",
        "            'gamma_constraint': constraints.serialize(self.gamma_constraint)\n",
        "        }\n",
        "        base_config = super(BatchNormalization, self).get_config()\n",
        "        return dict(list(base_config.items()) + list(config.items()))\n",
        "\n",
        "    def compute_output_shape(self, input_shape):\n",
        "        return input_shape"
      ],
      "execution_count": 0,
      "outputs": []
    },
    {
      "cell_type": "code",
      "metadata": {
        "id": "A7ahaIohFNWR",
        "colab_type": "code",
        "colab": {}
      },
      "source": [
        "import keras\n",
        "import numpy as np\n",
        "import matplotlib.pyplot as plt\n",
        "import tensorflow as tf\n",
        "from keras.preprocessing import sequence\n",
        "from keras.models import Sequential\n",
        "from keras.layers import Dense, Embedding\n",
        "from keras.utils import to_categorical\n",
        "from keras.layers import Input, Flatten, Dropout, Activation, BatchNormalization\n",
        "from keras.layers import Conv1D, MaxPooling1D\n",
        "from keras.models import Model\n",
        "from keras.callbacks import ModelCheckpoint\n",
        "\n",
        "\n",
        "\n",
        "model = Sequential()\n",
        "\n",
        "model.add(Conv1D(32, 5,strides=2,padding='same',input_shape=(40,1)))\n",
        "model.add(Activation('relu'))\n",
        "model.add(BatchNormalization())\n",
        "# model.add(x)\n",
        "# model.add(MaxPooling1D(pool_size=(8)))\n",
        "model.add(Conv1D(64, 5,strides=2,padding='same')\n",
        "model.add(Activation('relu'))\n",
        "model.add(BatchNormalization())\n",
        "model.add(Conv1D(8, 5,strides=2,padding='same',))\n",
        "model.add(Activation('relu'))\n",
        "model.add(BatchNormalization())\n",
        "model.add(Flatten())\n",
        "model.add(Dense(8))\n",
        "model.add(Activation('softmax'))\n",
        "# model.add(Dense(64))\n",
        "# model.add(Activation('relu'))\n",
        "# model.add(Dropout(0.2))\n",
        "# model.add(Dense(7))\n",
        "\n",
        "opt = keras.optimizers.Adam(lr=0.001, beta_1=0.9, beta_2=0.999, epsilon=None, decay=0.0, amsgrad=False)"
      ],
      "execution_count": 0,
      "outputs": []
    },
    {
      "cell_type": "code",
      "metadata": {
        "id": "j2WaO-264hlg",
        "colab_type": "code",
        "colab": {}
      },
      "source": [
        "BatchNormalization??"
      ],
      "execution_count": 0,
      "outputs": []
    },
    {
      "cell_type": "code",
      "metadata": {
        "id": "AP6ddSvpFgav",
        "colab_type": "code",
        "outputId": "be1d7fae-d089-41ca-ac65-1849c354b754",
        "colab": {
          "base_uri": "https://localhost:8080/",
          "height": 573
        }
      },
      "source": [
        "\n",
        "model.summary()"
      ],
      "execution_count": 0,
      "outputs": [
        {
          "output_type": "stream",
          "text": [
            "Model: \"sequential_1\"\n",
            "_________________________________________________________________\n",
            "Layer (type)                 Output Shape              Param #   \n",
            "=================================================================\n",
            "conv1d_1 (Conv1D)            (None, 20, 32)            192       \n",
            "_________________________________________________________________\n",
            "activation_1 (Activation)    (None, 20, 32)            0         \n",
            "_________________________________________________________________\n",
            "batch_normalization_1 (Batch (None, 20, 32)            128       \n",
            "_________________________________________________________________\n",
            "conv1d_2 (Conv1D)            (None, 10, 64)            10304     \n",
            "_________________________________________________________________\n",
            "activation_2 (Activation)    (None, 10, 64)            0         \n",
            "_________________________________________________________________\n",
            "batch_normalization_2 (Batch (None, 10, 64)            256       \n",
            "_________________________________________________________________\n",
            "conv1d_3 (Conv1D)            (None, 5, 8)              2568      \n",
            "_________________________________________________________________\n",
            "activation_3 (Activation)    (None, 5, 8)              0         \n",
            "_________________________________________________________________\n",
            "batch_normalization_3 (Batch (None, 5, 8)              32        \n",
            "_________________________________________________________________\n",
            "flatten_1 (Flatten)          (None, 40)                0         \n",
            "_________________________________________________________________\n",
            "dense_1 (Dense)              (None, 8)                 328       \n",
            "_________________________________________________________________\n",
            "activation_4 (Activation)    (None, 8)                 0         \n",
            "=================================================================\n",
            "Total params: 13,808\n",
            "Trainable params: 13,600\n",
            "Non-trainable params: 208\n",
            "_________________________________________________________________\n"
          ],
          "name": "stdout"
        }
      ]
    },
    {
      "cell_type": "code",
      "metadata": {
        "id": "6McgEjjMG1_J",
        "colab_type": "code",
        "outputId": "d6f6ba2a-b203-4b3c-8092-5fd3a35a310c",
        "colab": {
          "base_uri": "https://localhost:8080/",
          "height": 106
        }
      },
      "source": [
        "model.compile(loss='sparse_categorical_crossentropy',\n",
        "              optimizer=opt,\n",
        "              metrics=['accuracy'])"
      ],
      "execution_count": 0,
      "outputs": [
        {
          "output_type": "stream",
          "text": [
            "WARNING:tensorflow:From /usr/local/lib/python3.6/dist-packages/keras/optimizers.py:793: The name tf.train.Optimizer is deprecated. Please use tf.compat.v1.train.Optimizer instead.\n",
            "\n",
            "WARNING:tensorflow:From /usr/local/lib/python3.6/dist-packages/keras/backend/tensorflow_backend.py:3622: The name tf.log is deprecated. Please use tf.math.log instead.\n",
            "\n"
          ],
          "name": "stdout"
        }
      ]
    },
    {
      "cell_type": "code",
      "metadata": {
        "id": "gXomkbELJI4q",
        "colab_type": "code",
        "outputId": "dbcbdd1c-6d58-459e-fc15-e7816ad94b8c",
        "colab": {
          "base_uri": "https://localhost:8080/",
          "height": 34
        }
      },
      "source": [
        "from keras import backend as K\n",
        "K.tensorflow_backend._get_available_gpus()"
      ],
      "execution_count": 0,
      "outputs": [
        {
          "output_type": "execute_result",
          "data": {
            "text/plain": [
              "['/job:localhost/replica:0/task:0/device:GPU:0']"
            ]
          },
          "metadata": {
            "tags": []
          },
          "execution_count": 6
        }
      ]
    },
    {
      "cell_type": "code",
      "metadata": {
        "id": "oaDI3U7RHJT2",
        "colab_type": "code",
        "outputId": "e02c7fdf-ab8a-48d4-bac4-8f09d81fb9f2",
        "colab": {
          "base_uri": "https://localhost:8080/",
          "height": 1000
        }
      },
      "source": [
        "cnnhistory=model.fit(x_traincnn, train_y, batch_size=16, epochs=100, validation_data=(x_validcnn, valid_y))"
      ],
      "execution_count": 0,
      "outputs": [
        {
          "output_type": "stream",
          "text": [
            "Train on 3958 samples, validate on 990 samples\n",
            "Epoch 1/100\n",
            "3958/3958 [==============================] - 1s 246us/step - loss: 0.0167 - acc: 0.9932 - val_loss: 0.2625 - val_acc: 0.9495\n",
            "Epoch 2/100\n",
            "3958/3958 [==============================] - 1s 257us/step - loss: 0.0237 - acc: 0.9922 - val_loss: 0.2904 - val_acc: 0.9434\n",
            "Epoch 3/100\n",
            "3958/3958 [==============================] - 1s 238us/step - loss: 0.0283 - acc: 0.9914 - val_loss: 0.2562 - val_acc: 0.9495\n",
            "Epoch 4/100\n",
            "3958/3958 [==============================] - 1s 242us/step - loss: 0.0461 - acc: 0.9879 - val_loss: 0.2891 - val_acc: 0.9505\n",
            "Epoch 5/100\n",
            "3958/3958 [==============================] - 1s 250us/step - loss: 0.0460 - acc: 0.9826 - val_loss: 0.2645 - val_acc: 0.9525\n",
            "Epoch 6/100\n",
            "3958/3958 [==============================] - 1s 248us/step - loss: 0.0305 - acc: 0.9912 - val_loss: 0.2620 - val_acc: 0.9535\n",
            "Epoch 7/100\n",
            "3958/3958 [==============================] - 1s 250us/step - loss: 0.0199 - acc: 0.9939 - val_loss: 0.2755 - val_acc: 0.9444\n",
            "Epoch 8/100\n",
            "3958/3958 [==============================] - 1s 245us/step - loss: 0.0217 - acc: 0.9937 - val_loss: 0.2774 - val_acc: 0.9485\n",
            "Epoch 9/100\n",
            "3958/3958 [==============================] - 1s 251us/step - loss: 0.0198 - acc: 0.9934 - val_loss: 0.2866 - val_acc: 0.9414\n",
            "Epoch 10/100\n",
            "3958/3958 [==============================] - 1s 240us/step - loss: 0.0178 - acc: 0.9934 - val_loss: 0.2584 - val_acc: 0.9485\n",
            "Epoch 11/100\n",
            "3958/3958 [==============================] - 1s 239us/step - loss: 0.0193 - acc: 0.9949 - val_loss: 0.2930 - val_acc: 0.9525\n",
            "Epoch 12/100\n",
            "3958/3958 [==============================] - 1s 238us/step - loss: 0.0347 - acc: 0.9881 - val_loss: 0.2939 - val_acc: 0.9475\n",
            "Epoch 13/100\n",
            "3958/3958 [==============================] - 1s 260us/step - loss: 0.0213 - acc: 0.9929 - val_loss: 0.2384 - val_acc: 0.9535\n",
            "Epoch 14/100\n",
            "3958/3958 [==============================] - 1s 255us/step - loss: 0.0163 - acc: 0.9944 - val_loss: 0.2443 - val_acc: 0.9556\n",
            "Epoch 15/100\n",
            "3958/3958 [==============================] - 1s 259us/step - loss: 0.0269 - acc: 0.9901 - val_loss: 0.2691 - val_acc: 0.9566\n",
            "Epoch 16/100\n",
            "3958/3958 [==============================] - 1s 254us/step - loss: 0.0281 - acc: 0.9909 - val_loss: 0.2757 - val_acc: 0.9525\n",
            "Epoch 17/100\n",
            "3958/3958 [==============================] - 1s 248us/step - loss: 0.0123 - acc: 0.9960 - val_loss: 0.2551 - val_acc: 0.9576\n",
            "Epoch 18/100\n",
            "3958/3958 [==============================] - 1s 257us/step - loss: 0.0199 - acc: 0.9947 - val_loss: 0.2514 - val_acc: 0.9515\n",
            "Epoch 19/100\n",
            "3958/3958 [==============================] - 1s 265us/step - loss: 0.0263 - acc: 0.9907 - val_loss: 0.2571 - val_acc: 0.9556\n",
            "Epoch 20/100\n",
            "3958/3958 [==============================] - 1s 247us/step - loss: 0.0364 - acc: 0.9886 - val_loss: 0.2893 - val_acc: 0.9515\n",
            "Epoch 21/100\n",
            "3958/3958 [==============================] - 1s 260us/step - loss: 0.0235 - acc: 0.9912 - val_loss: 0.2291 - val_acc: 0.9535\n",
            "Epoch 22/100\n",
            "3958/3958 [==============================] - 1s 243us/step - loss: 0.0180 - acc: 0.9934 - val_loss: 0.2380 - val_acc: 0.9515\n",
            "Epoch 23/100\n",
            "3958/3958 [==============================] - 1s 256us/step - loss: 0.0276 - acc: 0.9904 - val_loss: 0.2459 - val_acc: 0.9566\n",
            "Epoch 24/100\n",
            "3958/3958 [==============================] - 1s 239us/step - loss: 0.0191 - acc: 0.9947 - val_loss: 0.3041 - val_acc: 0.9515\n",
            "Epoch 25/100\n",
            "3958/3958 [==============================] - 1s 239us/step - loss: 0.0328 - acc: 0.9881 - val_loss: 0.2735 - val_acc: 0.9525\n",
            "Epoch 26/100\n",
            "3958/3958 [==============================] - 1s 237us/step - loss: 0.0201 - acc: 0.9934 - val_loss: 0.2965 - val_acc: 0.9505\n",
            "Epoch 27/100\n",
            "3958/3958 [==============================] - 1s 252us/step - loss: 0.0283 - acc: 0.9927 - val_loss: 0.2781 - val_acc: 0.9626\n",
            "Epoch 28/100\n",
            "3958/3958 [==============================] - 1s 242us/step - loss: 0.0221 - acc: 0.9927 - val_loss: 0.2721 - val_acc: 0.9455\n",
            "Epoch 29/100\n",
            "3958/3958 [==============================] - 1s 254us/step - loss: 0.0207 - acc: 0.9932 - val_loss: 0.2749 - val_acc: 0.9596\n",
            "Epoch 30/100\n",
            "3958/3958 [==============================] - 1s 255us/step - loss: 0.0270 - acc: 0.9904 - val_loss: 0.2603 - val_acc: 0.9465\n",
            "Epoch 31/100\n",
            "3958/3958 [==============================] - 1s 257us/step - loss: 0.0260 - acc: 0.9917 - val_loss: 0.2713 - val_acc: 0.9515\n",
            "Epoch 32/100\n",
            "3958/3958 [==============================] - 1s 257us/step - loss: 0.0136 - acc: 0.9962 - val_loss: 0.2367 - val_acc: 0.9596\n",
            "Epoch 33/100\n",
            "3958/3958 [==============================] - 1s 250us/step - loss: 0.0154 - acc: 0.9947 - val_loss: 0.2367 - val_acc: 0.9535\n",
            "Epoch 34/100\n",
            "3958/3958 [==============================] - 1s 270us/step - loss: 0.0267 - acc: 0.9922 - val_loss: 0.2595 - val_acc: 0.9566\n",
            "Epoch 35/100\n",
            "3958/3958 [==============================] - 1s 262us/step - loss: 0.0185 - acc: 0.9937 - val_loss: 0.2706 - val_acc: 0.9535\n",
            "Epoch 36/100\n",
            "3958/3958 [==============================] - 1s 257us/step - loss: 0.0164 - acc: 0.9937 - val_loss: 0.3082 - val_acc: 0.9485\n",
            "Epoch 37/100\n",
            "3958/3958 [==============================] - 1s 244us/step - loss: 0.0179 - acc: 0.9937 - val_loss: 0.2394 - val_acc: 0.9535\n",
            "Epoch 38/100\n",
            "3958/3958 [==============================] - 1s 233us/step - loss: 0.0236 - acc: 0.9922 - val_loss: 0.3281 - val_acc: 0.9495\n",
            "Epoch 39/100\n",
            "3958/3958 [==============================] - 1s 246us/step - loss: 0.0354 - acc: 0.9866 - val_loss: 0.2585 - val_acc: 0.9404\n",
            "Epoch 40/100\n",
            "3958/3958 [==============================] - 1s 238us/step - loss: 0.0275 - acc: 0.9917 - val_loss: 0.3262 - val_acc: 0.9485\n",
            "Epoch 41/100\n",
            "3958/3958 [==============================] - 1s 245us/step - loss: 0.0206 - acc: 0.9914 - val_loss: 0.3504 - val_acc: 0.9475\n",
            "Epoch 42/100\n",
            "3958/3958 [==============================] - 1s 250us/step - loss: 0.0213 - acc: 0.9929 - val_loss: 0.3156 - val_acc: 0.9515\n",
            "Epoch 43/100\n",
            "3958/3958 [==============================] - 1s 244us/step - loss: 0.0314 - acc: 0.9927 - val_loss: 0.3819 - val_acc: 0.9455\n",
            "Epoch 44/100\n",
            "3958/3958 [==============================] - 1s 257us/step - loss: 0.0190 - acc: 0.9937 - val_loss: 0.3200 - val_acc: 0.9465\n",
            "Epoch 45/100\n",
            "3958/3958 [==============================] - 1s 268us/step - loss: 0.0212 - acc: 0.9934 - val_loss: 0.3195 - val_acc: 0.9475\n",
            "Epoch 46/100\n",
            "3958/3958 [==============================] - 1s 248us/step - loss: 0.0379 - acc: 0.9886 - val_loss: 0.3439 - val_acc: 0.9394\n",
            "Epoch 47/100\n",
            "3958/3958 [==============================] - 1s 245us/step - loss: 0.0295 - acc: 0.9919 - val_loss: 0.3000 - val_acc: 0.9545\n",
            "Epoch 48/100\n",
            "3958/3958 [==============================] - 1s 244us/step - loss: 0.0068 - acc: 0.9977 - val_loss: 0.2969 - val_acc: 0.9556\n",
            "Epoch 49/100\n",
            "3958/3958 [==============================] - 1s 235us/step - loss: 0.0153 - acc: 0.9965 - val_loss: 0.3091 - val_acc: 0.9535\n",
            "Epoch 50/100\n",
            "3958/3958 [==============================] - 1s 235us/step - loss: 0.0069 - acc: 0.9987 - val_loss: 0.2862 - val_acc: 0.9535\n",
            "Epoch 51/100\n",
            "3958/3958 [==============================] - 1s 233us/step - loss: 0.0215 - acc: 0.9937 - val_loss: 0.3341 - val_acc: 0.9394\n",
            "Epoch 52/100\n",
            "3958/3958 [==============================] - 1s 241us/step - loss: 0.0448 - acc: 0.9856 - val_loss: 0.3405 - val_acc: 0.9525\n",
            "Epoch 53/100\n",
            "3958/3958 [==============================] - 1s 238us/step - loss: 0.0332 - acc: 0.9922 - val_loss: 0.3293 - val_acc: 0.9525\n",
            "Epoch 54/100\n",
            "3958/3958 [==============================] - 1s 254us/step - loss: 0.0212 - acc: 0.9932 - val_loss: 0.2852 - val_acc: 0.9596\n",
            "Epoch 55/100\n",
            "3958/3958 [==============================] - 1s 264us/step - loss: 0.0106 - acc: 0.9965 - val_loss: 0.2991 - val_acc: 0.9576\n",
            "Epoch 56/100\n",
            "3958/3958 [==============================] - 1s 260us/step - loss: 0.0075 - acc: 0.9972 - val_loss: 0.3474 - val_acc: 0.9545\n",
            "Epoch 57/100\n",
            "3958/3958 [==============================] - 1s 270us/step - loss: 0.0065 - acc: 0.9982 - val_loss: 0.2945 - val_acc: 0.9535\n",
            "Epoch 58/100\n",
            "3958/3958 [==============================] - 1s 268us/step - loss: 0.0088 - acc: 0.9970 - val_loss: 0.2917 - val_acc: 0.9444\n",
            "Epoch 59/100\n",
            "3958/3958 [==============================] - 1s 251us/step - loss: 0.0417 - acc: 0.9866 - val_loss: 0.3818 - val_acc: 0.9303\n",
            "Epoch 60/100\n",
            "3958/3958 [==============================] - 1s 261us/step - loss: 0.0373 - acc: 0.9907 - val_loss: 0.3210 - val_acc: 0.9505\n",
            "Epoch 61/100\n",
            "3958/3958 [==============================] - 1s 254us/step - loss: 0.0182 - acc: 0.9955 - val_loss: 0.2891 - val_acc: 0.9515\n",
            "Epoch 62/100\n",
            "3958/3958 [==============================] - 1s 246us/step - loss: 0.0391 - acc: 0.9889 - val_loss: 0.3109 - val_acc: 0.9566\n",
            "Epoch 63/100\n",
            "3958/3958 [==============================] - 1s 254us/step - loss: 0.0285 - acc: 0.9886 - val_loss: 0.3235 - val_acc: 0.9556\n",
            "Epoch 64/100\n",
            "3958/3958 [==============================] - 1s 251us/step - loss: 0.0189 - acc: 0.9955 - val_loss: 0.3244 - val_acc: 0.9455\n",
            "Epoch 65/100\n",
            "3958/3958 [==============================] - 1s 265us/step - loss: 0.0139 - acc: 0.9949 - val_loss: 0.2482 - val_acc: 0.9556\n",
            "Epoch 66/100\n",
            "3958/3958 [==============================] - 1s 263us/step - loss: 0.0195 - acc: 0.9932 - val_loss: 0.3082 - val_acc: 0.9495\n",
            "Epoch 67/100\n",
            "3958/3958 [==============================] - 1s 261us/step - loss: 0.0173 - acc: 0.9942 - val_loss: 0.2956 - val_acc: 0.9606\n",
            "Epoch 68/100\n",
            "3958/3958 [==============================] - 1s 251us/step - loss: 0.0126 - acc: 0.9972 - val_loss: 0.3125 - val_acc: 0.9576\n",
            "Epoch 69/100\n",
            "3958/3958 [==============================] - 1s 249us/step - loss: 0.0184 - acc: 0.9939 - val_loss: 0.2952 - val_acc: 0.9515\n",
            "Epoch 70/100\n",
            "3958/3958 [==============================] - 1s 252us/step - loss: 0.0254 - acc: 0.9919 - val_loss: 0.3201 - val_acc: 0.9485\n",
            "Epoch 71/100\n",
            "3958/3958 [==============================] - 1s 244us/step - loss: 0.0166 - acc: 0.9939 - val_loss: 0.2607 - val_acc: 0.9475\n",
            "Epoch 72/100\n",
            "3958/3958 [==============================] - 1s 252us/step - loss: 0.0292 - acc: 0.9896 - val_loss: 0.3131 - val_acc: 0.9515\n",
            "Epoch 73/100\n",
            "3958/3958 [==============================] - 1s 242us/step - loss: 0.0195 - acc: 0.9944 - val_loss: 0.3003 - val_acc: 0.9515\n",
            "Epoch 74/100\n",
            "3958/3958 [==============================] - 1s 245us/step - loss: 0.0224 - acc: 0.9942 - val_loss: 0.3321 - val_acc: 0.9596\n",
            "Epoch 75/100\n",
            "3958/3958 [==============================] - 1s 254us/step - loss: 0.0205 - acc: 0.9932 - val_loss: 0.3396 - val_acc: 0.9566\n",
            "Epoch 76/100\n",
            "3958/3958 [==============================] - 1s 250us/step - loss: 0.0246 - acc: 0.9922 - val_loss: 0.2691 - val_acc: 0.9646\n",
            "Epoch 77/100\n",
            "3958/3958 [==============================] - 1s 244us/step - loss: 0.0471 - acc: 0.9848 - val_loss: 0.3044 - val_acc: 0.9495\n",
            "Epoch 78/100\n",
            "3958/3958 [==============================] - 1s 247us/step - loss: 0.0185 - acc: 0.9944 - val_loss: 0.3107 - val_acc: 0.9545\n",
            "Epoch 79/100\n",
            "3958/3958 [==============================] - 1s 252us/step - loss: 0.0138 - acc: 0.9960 - val_loss: 0.2505 - val_acc: 0.9566\n",
            "Epoch 80/100\n",
            "3958/3958 [==============================] - 1s 249us/step - loss: 0.0071 - acc: 0.9985 - val_loss: 0.2647 - val_acc: 0.9576\n",
            "Epoch 81/100\n",
            "3958/3958 [==============================] - 1s 241us/step - loss: 0.0136 - acc: 0.9955 - val_loss: 0.2686 - val_acc: 0.9515\n",
            "Epoch 82/100\n",
            "3958/3958 [==============================] - 1s 244us/step - loss: 0.0289 - acc: 0.9922 - val_loss: 0.2935 - val_acc: 0.9545\n",
            "Epoch 83/100\n",
            "3958/3958 [==============================] - 1s 243us/step - loss: 0.0219 - acc: 0.9932 - val_loss: 0.3264 - val_acc: 0.9556\n",
            "Epoch 84/100\n",
            "3958/3958 [==============================] - 1s 242us/step - loss: 0.0199 - acc: 0.9937 - val_loss: 0.2963 - val_acc: 0.9556\n",
            "Epoch 85/100\n",
            "3958/3958 [==============================] - 1s 244us/step - loss: 0.0217 - acc: 0.9922 - val_loss: 0.3358 - val_acc: 0.9545\n",
            "Epoch 86/100\n",
            "3958/3958 [==============================] - 1s 241us/step - loss: 0.0069 - acc: 0.9982 - val_loss: 0.3088 - val_acc: 0.9525\n",
            "Epoch 87/100\n",
            "3958/3958 [==============================] - 1s 248us/step - loss: 0.0264 - acc: 0.9914 - val_loss: 0.3366 - val_acc: 0.9444\n",
            "Epoch 88/100\n",
            "3958/3958 [==============================] - 1s 244us/step - loss: 0.0306 - acc: 0.9891 - val_loss: 0.3340 - val_acc: 0.9566\n",
            "Epoch 89/100\n",
            "3958/3958 [==============================] - 1s 244us/step - loss: 0.0334 - acc: 0.9894 - val_loss: 0.3051 - val_acc: 0.9525\n",
            "Epoch 90/100\n",
            "3958/3958 [==============================] - 1s 254us/step - loss: 0.0226 - acc: 0.9919 - val_loss: 0.3100 - val_acc: 0.9525\n",
            "Epoch 91/100\n",
            "3958/3958 [==============================] - 1s 248us/step - loss: 0.0127 - acc: 0.9947 - val_loss: 0.3345 - val_acc: 0.9515\n",
            "Epoch 92/100\n",
            "3958/3958 [==============================] - 1s 253us/step - loss: 0.0129 - acc: 0.9967 - val_loss: 0.3153 - val_acc: 0.9495\n",
            "Epoch 93/100\n",
            "3958/3958 [==============================] - 1s 252us/step - loss: 0.0123 - acc: 0.9949 - val_loss: 0.3262 - val_acc: 0.9495\n",
            "Epoch 94/100\n",
            "3958/3958 [==============================] - 1s 256us/step - loss: 0.0254 - acc: 0.9919 - val_loss: 0.3048 - val_acc: 0.9465\n",
            "Epoch 95/100\n",
            "3958/3958 [==============================] - 1s 240us/step - loss: 0.0190 - acc: 0.9927 - val_loss: 0.2885 - val_acc: 0.9515\n",
            "Epoch 96/100\n",
            "3958/3958 [==============================] - 1s 239us/step - loss: 0.0179 - acc: 0.9929 - val_loss: 0.3727 - val_acc: 0.9414\n",
            "Epoch 97/100\n",
            "3958/3958 [==============================] - 1s 251us/step - loss: 0.0165 - acc: 0.9949 - val_loss: 0.3371 - val_acc: 0.9465\n",
            "Epoch 98/100\n",
            "3958/3958 [==============================] - 1s 261us/step - loss: 0.0140 - acc: 0.9955 - val_loss: 0.3251 - val_acc: 0.9485\n",
            "Epoch 99/100\n",
            "3958/3958 [==============================] - 1s 252us/step - loss: 0.0163 - acc: 0.9944 - val_loss: 0.3211 - val_acc: 0.9535\n",
            "Epoch 100/100\n",
            "3958/3958 [==============================] - 1s 248us/step - loss: 0.0141 - acc: 0.9962 - val_loss: 0.3820 - val_acc: 0.9394\n"
          ],
          "name": "stdout"
        }
      ]
    },
    {
      "cell_type": "code",
      "metadata": {
        "id": "JPR3lVHImxsM",
        "colab_type": "code",
        "outputId": "806af91c-5158-4276-907b-32d265101ed4",
        "colab": {
          "base_uri": "https://localhost:8080/",
          "height": 34
        }
      },
      "source": [
        "model_name = 'OnlyNeutral_Emotion_Voice_Detection_Model.h5'\n",
        "save_dir = 'gdrive/My Drive/ravdess_model'\n",
        "# Save model and weights\n",
        "if not os.path.isdir(save_dir):\n",
        "    os.makedirs(save_dir)\n",
        "model_path = os.path.join(save_dir, model_name)\n",
        "model.save(model_path)\n",
        "print('Saved trained model at %s ' % model_path)"
      ],
      "execution_count": 0,
      "outputs": [
        {
          "output_type": "stream",
          "text": [
            "Saved trained model at gdrive/My Drive/ravdess_model/OnlyNeutral_Emotion_Voice_Detection_Model.h5 \n"
          ],
          "name": "stdout"
        }
      ]
    },
    {
      "cell_type": "code",
      "metadata": {
        "id": "k0qXnF5jKh_o",
        "colab_type": "code",
        "outputId": "1634aec2-3a1f-4be8-99ac-e1db74528785",
        "colab": {
          "base_uri": "https://localhost:8080/",
          "height": 295
        }
      },
      "source": [
        "import matplotlib.pyplot as plt\n",
        "plt.plot(cnnhistory.history['loss'])\n",
        "plt.plot(cnnhistory.history['val_loss'])\n",
        "plt.title('model loss')\n",
        "plt.ylabel('loss')\n",
        "plt.xlabel('epoch')\n",
        "plt.legend(['train', 'test'], loc='upper left')\n",
        "plt.show()\n",
        "\n"
      ],
      "execution_count": 0,
      "outputs": [
        {
          "output_type": "display_data",
          "data": {
            "image/png": "[encoded data removed]",
            "text/plain": [
              "<Figure size 432x288 with 1 Axes>"
            ]
          },
          "metadata": {
            "tags": []
          }
        }
      ]
    },
    {
      "cell_type": "code",
      "metadata": {
        "id": "6OJQxXSC5UY8",
        "colab_type": "code",
        "colab": {}
      },
      "source": [
        "# model = Sequential()\n",
        "\n",
        "# model.add(Conv1D(128, 5,padding='same',\n",
        "#                  input_shape=(40,1)))\n",
        "# model.add(Activation('relu'))\n",
        "# model.add(Dropout(0.1))\n",
        "# model.add(MaxPooling1D(pool_size=(8)))\n",
        "# model.add(Conv1D(128, 5,padding='same',))\n",
        "# model.add(Activation('relu'))\n",
        "# model.add(Dropout(0.1))\n",
        "# model.add(Flatten())\n",
        "# model.add(Dense(8))\n",
        "# model.add(Activation('softmax'))\n",
        "# opt = keras.optimizers.rmsprop(lr=0.00005, rho=0.9, epsilon=None, decay=0.0)"
      ],
      "execution_count": 0,
      "outputs": []
    },
    {
      "cell_type": "code",
      "metadata": {
        "id": "GXEncYELgZGm",
        "colab_type": "code",
        "outputId": "1f9e0168-77db-41a5-b8de-50eceb181be2",
        "colab": {
          "base_uri": "https://localhost:8080/",
          "height": 52
        }
      },
      "source": [
        "predictions = model.predict_classes(x_validcnn)\n",
        "print(predictions)\n",
        "solutions = model.predict(x_validcnn)\n",
        "print(solutions[0])"
      ],
      "execution_count": 0,
      "outputs": [
        {
          "output_type": "stream",
          "text": [
            "[2 4 3 0 ... 2 3 1 5]\n",
            "[1.551546e-13 1.539131e-02 9.846087e-01 1.121310e-16 4.077830e-19 9.010878e-15 8.935554e-19 7.600190e-11]\n"
          ],
          "name": "stdout"
        }
      ]
    },
    {
      "cell_type": "code",
      "metadata": {
        "id": "YqNi2bo5gg_k",
        "colab_type": "code",
        "outputId": "f9e7176f-35db-42b8-eff7-41c6720f1dbd",
        "colab": {
          "base_uri": "https://localhost:8080/",
          "height": 278
        }
      },
      "source": [
        "from sklearn.metrics import classification_report\n",
        "report = classification_report(valid_y, predictions)\n",
        "print(report)"
      ],
      "execution_count": 0,
      "outputs": [
        {
          "output_type": "stream",
          "text": [
            "              precision    recall  f1-score   support\n",
            "\n",
            "           0       0.95      0.90      0.93        84\n",
            "           1       0.92      0.95      0.93       165\n",
            "           2       0.89      0.94      0.91       132\n",
            "           3       0.95      0.95      0.95       156\n",
            "           4       0.97      0.94      0.96       141\n",
            "           5       0.93      0.93      0.93       150\n",
            "           6       0.95      0.94      0.95        87\n",
            "           7       1.00      0.95      0.97        75\n",
            "\n",
            "    accuracy                           0.94       990\n",
            "   macro avg       0.94      0.94      0.94       990\n",
            "weighted avg       0.94      0.94      0.94       990\n",
            "\n"
          ],
          "name": "stdout"
        }
      ]
    },
    {
      "cell_type": "code",
      "metadata": {
        "id": "cf1l02Ccgy-1",
        "colab_type": "code",
        "outputId": "18a96009-8d0c-4a5c-9bd4-14fca9ac0006",
        "colab": {
          "base_uri": "https://localhost:8080/",
          "height": 156
        }
      },
      "source": [
        "from sklearn.metrics import confusion_matrix\n",
        "matrix = confusion_matrix(valid_y, predictions)\n",
        "print (matrix)"
      ],
      "execution_count": 0,
      "outputs": [
        {
          "output_type": "stream",
          "text": [
            "[[ 76   2   0   2   0   4   0   0]\n",
            " [  0 157   7   1   0   0   0   0]\n",
            " [  4   2 124   0   0   2   0   0]\n",
            " [  0   8   0 148   0   0   0   0]\n",
            " [  0   0   0   0 133   4   4   0]\n",
            " [  0   0   5   4   2 139   0   0]\n",
            " [  0   2   2   1   0   0  82   0]\n",
            " [  0   0   2   0   2   0   0  71]]\n"
          ],
          "name": "stdout"
        }
      ]
    },
    {
      "cell_type": "code",
      "metadata": {
        "id": "jMLWOaAqhqnk",
        "colab_type": "code",
        "colab": {}
      },
      "source": [
        "model_name = 'Emotion_Voice_Detection_Model.h5'\n",
        "save_dir = 'gdrive/My Drive/ravdess_model'\n",
        "# Save model and weights\n",
        "if not os.path.isdir(save_dir):\n",
        "    os.makedirs(save_dir)\n",
        "model_path = os.path.join(save_dir, model_name)\n",
        "model.save(model_path)\n",
        "print('Saved trained model at %s ' % model_path)"
      ],
      "execution_count": 0,
      "outputs": []
    },
    {
      "cell_type": "code",
      "metadata": {
        "id": "lWGjo_-Xh4XT",
        "colab_type": "code",
        "outputId": "420b7e74-5daa-4302-bff6-388db43250c2",
        "colab": {
          "base_uri": "https://localhost:8080/",
          "height": 607
        }
      },
      "source": [
        "loaded_model = keras.models.load_model('gdrive/My Drive/ravdess_model/OnlyNeutral_Emotion_Voice_Detection_Model.h5')\n",
        "loaded_model.summary()"
      ],
      "execution_count": 0,
      "outputs": [
        {
          "output_type": "stream",
          "text": [
            "Model: \"sequential_1\"\n",
            "_________________________________________________________________\n",
            "Layer (type)                 Output Shape              Param #   \n",
            "=================================================================\n",
            "conv1d_1 (Conv1D)            (None, 40, 128)           768       \n",
            "_________________________________________________________________\n",
            "activation_1 (Activation)    (None, 40, 128)           0         \n",
            "_________________________________________________________________\n",
            "dropout_1 (Dropout)          (None, 40, 128)           0         \n",
            "_________________________________________________________________\n",
            "max_pooling1d_1 (MaxPooling1 (None, 5, 128)            0         \n",
            "_________________________________________________________________\n",
            "conv1d_2 (Conv1D)            (None, 5, 128)            82048     \n",
            "_________________________________________________________________\n",
            "activation_2 (Activation)    (None, 5, 128)            0         \n",
            "_________________________________________________________________\n",
            "dropout_2 (Dropout)          (None, 5, 128)            0         \n",
            "_________________________________________________________________\n",
            "flatten_1 (Flatten)          (None, 640)               0         \n",
            "_________________________________________________________________\n",
            "dense_1 (Dense)              (None, 64)                41024     \n",
            "_________________________________________________________________\n",
            "activation_3 (Activation)    (None, 64)                0         \n",
            "_________________________________________________________________\n",
            "dropout_3 (Dropout)          (None, 64)                0         \n",
            "_________________________________________________________________\n",
            "dense_2 (Dense)              (None, 8)                 520       \n",
            "_________________________________________________________________\n",
            "activation_4 (Activation)    (None, 8)                 0         \n",
            "=================================================================\n",
            "Total params: 124,360\n",
            "Trainable params: 124,360\n",
            "Non-trainable params: 0\n",
            "_________________________________________________________________\n"
          ],
          "name": "stdout"
        }
      ]
    },
    {
      "cell_type": "code",
      "metadata": {
        "id": "SDDuRKZzh-FZ",
        "colab_type": "code",
        "outputId": "07b92947-4017-465d-a65e-cdfae4126b9c",
        "colab": {
          "base_uri": "https://localhost:8080/",
          "height": 52
        }
      },
      "source": [
        "loss, acc = loaded_model.evaluate(x_validcnn, valid_y)\n",
        "print(\"Restored model, accuracy: {:5.2f}%\".format(100*acc))\n",
        "\n"
      ],
      "execution_count": 0,
      "outputs": [
        {
          "output_type": "stream",
          "text": [
            "990/990 [==============================] - 0s 158us/step\n",
            "Restored model, accuracy: 92.63%\n"
          ],
          "name": "stdout"
        }
      ]
    },
    {
      "cell_type": "code",
      "metadata": {
        "id": "DhrikIJP9kyq",
        "colab_type": "code",
        "outputId": "4be743f9-ea14-490a-caca-747b580fcdc5",
        "colab": {
          "base_uri": "https://localhost:8080/",
          "height": 34
        }
      },
      "source": [
        "import numpy as np\n",
        "import time \n",
        "import librosa\n",
        "import os\n",
        "start_time = time.time()\n",
        "lst = []\n",
        "folder = 'gdrive/My Drive/ravdess_model/data'\n",
        "for file in os.listdir(folder):\n",
        "  try:\n",
        "    X, sample_rate = librosa.load(os.path.join(folder,file), res_type='kaiser_fast')\n",
        "    mfccs = np.mean(librosa.feature.mfcc(y=X, sr=sample_rate, n_mfcc=40).T,axis=0) \n",
        "    file = file[0] \n",
        "    arr = mfccs, file\n",
        "    lst.append(arr)\n",
        "  except ValueError:\n",
        "    continue\n",
        "\n",
        "print(\"--- Data loaded. Loading time: %s seconds ---\" % (time.time() - start_time))"
      ],
      "execution_count": 0,
      "outputs": [
        {
          "output_type": "stream",
          "text": [
            "--- Data loaded. Loading time: 17.29483461380005 seconds ---\n"
          ],
          "name": "stdout"
        }
      ]
    },
    {
      "cell_type": "code",
      "metadata": {
        "id": "iZoTDbOQ-B6R",
        "colab_type": "code",
        "colab": {}
      },
      "source": [
        "test_X, test_y = zip(*lst)\n",
        "test_X = np.asarray(test_X)\n",
        "# test_y = np.asarray(test_y)\n",
        "\n",
        "\n",
        "\n",
        "test_X = np.expand_dims(test_X, axis=2)"
      ],
      "execution_count": 0,
      "outputs": []
    },
    {
      "cell_type": "code",
      "metadata": {
        "id": "x2e5DDJz-3CW",
        "colab_type": "code",
        "outputId": "acda0962-2bde-4bb0-9b39-c62bfadf8b57",
        "colab": {
          "base_uri": "https://localhost:8080/",
          "height": 235
        }
      },
      "source": [
        "classes = ['neutral','happy', 'sad', 'angry', 'fearful', 'disgust', 'surprised']\n",
        "\n",
        "\n",
        "# print(test_y)\n",
        "solutions = loaded_model.predict(test_X)\n",
        "\n",
        "# print(solutions[0])\n",
        "# for i,class_ in enumerate(classes):\n",
        "#   print(i,class_)\n",
        "  \n",
        "for i in range(len(solutions)):\n",
        "  indices = solutions[i].argsort()[-2:][::-1]\n",
        "  for j in indices:\n",
        "    if j==1:\n",
        "      j=0\n",
        "    print(classes[j])\n",
        "  print('----')\n",
        "  \n",
        "# # Emotion (01 = neutral, 02 = calm, 03 = happy, 04 = sad, 05 = angry, 06 = fearful, 07 = disgust, 08 = surprised).\n",
        "# # 0 Neutral 1 calm 2 happy 3 sad 4 angry 5 fearful 6 disgust 7 is surprised"
      ],
      "execution_count": 0,
      "outputs": [
        {
          "output_type": "error",
          "ename": "NameError",
          "evalue": "ignored",
          "traceback": [
            "\u001b[0;31m---------------------------------------------------------------------------\u001b[0m",
            "\u001b[0;31mNameError\u001b[0m                                 Traceback (most recent call last)",
            "\u001b[0;32m<ipython-input-37-ab2ba7bcc636>\u001b[0m in \u001b[0;36m<module>\u001b[0;34m()\u001b[0m\n\u001b[1;32m      3\u001b[0m \u001b[0;34m\u001b[0m\u001b[0m\n\u001b[1;32m      4\u001b[0m \u001b[0;31m# print(test_y)\u001b[0m\u001b[0;34m\u001b[0m\u001b[0;34m\u001b[0m\u001b[0;34m\u001b[0m\u001b[0m\n\u001b[0;32m----> 5\u001b[0;31m \u001b[0msolutions\u001b[0m \u001b[0;34m=\u001b[0m \u001b[0mloaded_model\u001b[0m\u001b[0;34m.\u001b[0m\u001b[0mpredict\u001b[0m\u001b[0;34m(\u001b[0m\u001b[0mtest_X\u001b[0m\u001b[0;34m)\u001b[0m\u001b[0;34m\u001b[0m\u001b[0;34m\u001b[0m\u001b[0m\n\u001b[0m\u001b[1;32m      6\u001b[0m \u001b[0;34m\u001b[0m\u001b[0m\n\u001b[1;32m      7\u001b[0m \u001b[0;31m# print(solutions[0])\u001b[0m\u001b[0;34m\u001b[0m\u001b[0;34m\u001b[0m\u001b[0;34m\u001b[0m\u001b[0m\n",
            "\u001b[0;31mNameError\u001b[0m: name 'loaded_model' is not defined"
          ]
        }
      ]
    },
    {
      "cell_type": "code",
      "metadata": {
        "id": "Z7ZMHJYbGxjb",
        "colab_type": "code",
        "colab": {}
      },
      "source": [
        ""
      ],
      "execution_count": 0,
      "outputs": []
    },
    {
      "cell_type": "code",
      "metadata": {
        "id": "NVtfiKXDjjwJ",
        "colab_type": "code",
        "colab": {}
      },
      "source": [
        "# Submission Code \n"
      ],
      "execution_count": 0,
      "outputs": []
    },
    {
      "cell_type": "markdown",
      "metadata": {
        "id": "NmgP_PqMAlF2",
        "colab_type": "text"
      },
      "source": [
        "2 4 2 0 2 0 0 0"
      ]
    }
  ]
}